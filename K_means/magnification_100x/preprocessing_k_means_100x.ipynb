{
 "cells": [
  {
   "cell_type": "code",
   "execution_count": 2,
   "metadata": {},
   "outputs": [],
   "source": [
    "import numpy as np\n",
    "import pandas as pd\n",
    "import matplotlib.pyplot as plt\n",
    "from glob import glob\n",
    "import cv2\n",
    "import fnmatch\n",
    "from sklearn.cluster import MeanShift, estimate_bandwidth, KMeans\n",
    "from sklearn.datasets.samples_generator import make_blobs\n",
    "%matplotlib inline"
   ]
  },
  {
   "cell_type": "code",
   "execution_count": 3,
   "metadata": {},
   "outputs": [
    {
     "data": {
      "text/plain": [
       "6243"
      ]
     },
     "execution_count": 3,
     "metadata": {},
     "output_type": "execute_result"
    }
   ],
   "source": [
    "imagePatches = glob('D:/breakhis/BreaKHis_v1/histology_slides/breast/**/SOB/**/**/100X/*.png', recursive=True)\n",
    "len(imagePatches)"
   ]
  },
  {
   "cell_type": "code",
   "execution_count": 4,
   "metadata": {},
   "outputs": [
    {
     "data": {
      "text/plain": [
       "339"
      ]
     },
     "execution_count": 4,
     "metadata": {},
     "output_type": "execute_result"
    }
   ],
   "source": [
    "pattern_adenosis = '*B_A*'\n",
    "pattern_fibroadenoma = '*B_F*'\n",
    "pattern_phyllodes_tumor = '*B_PT*'\n",
    "pattern_tubular_adenoma = '*B_TA*'\n",
    "pattern_ductal_carcinoma = '*M_DC*'\n",
    "pattern_lobular_carcinoma = '*M_LC*'\n",
    "pattern_mucinous_carcinoma = '*M_MC*'\n",
    "pattern_papillary_carcinoma  = '*M_PC*'\n",
    "\n",
    "adenosis = fnmatch.filter(imagePatches, pattern_adenosis)\n",
    "fibroadenoma = fnmatch.filter(imagePatches, pattern_fibroadenoma)\n",
    "phyllodes_tumor = fnmatch.filter(imagePatches, pattern_phyllodes_tumor)\n",
    "tubular_adenoma = fnmatch.filter(imagePatches,pattern_tubular_adenoma)\n",
    "ductal_carcinoma = fnmatch.filter(imagePatches, pattern_ductal_carcinoma)\n",
    "lobular_carcinoma = fnmatch.filter(imagePatches, pattern_lobular_carcinoma)\n",
    "mucinous_carcinoma = fnmatch.filter(imagePatches, pattern_mucinous_carcinoma)\n",
    "papillary_carcinoma = fnmatch.filter(imagePatches, pattern_papillary_carcinoma)\n",
    "\n",
    "len(adenosis)"
   ]
  },
  {
   "cell_type": "code",
   "execution_count": 5,
   "metadata": {},
   "outputs": [],
   "source": [
    "X = []\n",
    "y = []\n",
    "for img in imagePatches:\n",
    "    full_size_image = cv2.imread(img)\n",
    "    original_image=np.array(cv2.resize(full_size_image, (299, 299), interpolation=cv2.INTER_CUBIC))\n",
    "    original_shape = original_image.shape\n",
    "    x = np.reshape(original_image,[-1,3])\n",
    "    x = np.float32(x)\n",
    "    #bandwidth = estimate_bandwidth(x, quantile=0.1, n_samples=100)\n",
    "    criteria = (cv2.TERM_CRITERIA_EPS + cv2.TERM_CRITERIA_MAX_ITER, 10, 1.0)\n",
    "    K = 4\n",
    "    ret,label,center=cv2.kmeans(x,K,None,criteria,10,cv2.KMEANS_RANDOM_CENTERS)\n",
    "\n",
    "    # Now convert back into uint8, and make original image\n",
    "    center = np.uint8(center)\n",
    "    res = center[label.flatten()]\n",
    "    res2 = res.reshape((original_image.shape))\n",
    "    X.append(res2)\n",
    "    if img in adenosis:\n",
    "        y.append(0)\n",
    "    elif img in fibroadenoma:\n",
    "        y.append(1)\n",
    "    elif img in phyllodes_tumor:\n",
    "        y.append(2)\n",
    "    elif img in tubular_adenoma:\n",
    "        y.append(3)\n",
    "    elif img in ductal_carcinoma:\n",
    "        y.append(4)\n",
    "    elif img in lobular_carcinoma:\n",
    "        y.append(5)\n",
    "    elif img in mucinous_carcinoma:\n",
    "        y.append(6)\n",
    "    elif img in papillary_carcinoma:\n",
    "        y.append(7)\n",
    "    else:\n",
    "        #break\n",
    "        print('no class')"
   ]
  },
  {
   "cell_type": "code",
   "execution_count": 7,
   "metadata": {},
   "outputs": [],
   "source": [
    "x = np.array(x)\n",
    "y = np.array(y)"
   ]
  },
  {
   "cell_type": "code",
   "execution_count": 8,
   "metadata": {},
   "outputs": [],
   "source": [
    "np.save('C:/Users/Debanjan Bhadra/Desktop/project/x_BreakHis_100_K_means_K4.npy',x,allow_pickle=True)\n",
    "np.save('C:/Users/Debanjan Bhadra/Desktop/project/y_BreakHis_100_octal.npy',y,allow_pickle=True)"
   ]
  }
 ],
 "metadata": {
  "kernelspec": {
   "display_name": "Python 3",
   "language": "python",
   "name": "python3"
  },
  "language_info": {
   "codemirror_mode": {
    "name": "ipython",
    "version": 3
   },
   "file_extension": ".py",
   "mimetype": "text/x-python",
   "name": "python",
   "nbconvert_exporter": "python",
   "pygments_lexer": "ipython3",
   "version": "3.6.4"
  }
 },
 "nbformat": 4,
 "nbformat_minor": 2
}
