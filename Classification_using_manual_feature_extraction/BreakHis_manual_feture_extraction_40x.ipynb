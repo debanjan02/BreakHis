{
 "cells": [
  {
   "cell_type": "code",
   "execution_count": 1,
   "metadata": {},
   "outputs": [],
   "source": [
    "from skimage.feature import local_binary_pattern, greycomatrix, greycoprops\n",
    "from skimage.filters import gabor\n",
    "import numpy as np\n",
    "import pandas as pd\n",
    "import matplotlib.pyplot as plt\n",
    "from glob import glob\n",
    "import cv2\n",
    "import fnmatch\n",
    "from skimage.feature import local_binary_pattern\n",
    "from scipy.stats import itemfreq\n",
    "from sklearn.preprocessing import normalize\n",
    "import PIL\n",
    "%matplotlib inline"
   ]
  },
  {
   "cell_type": "code",
   "execution_count": 2,
   "metadata": {},
   "outputs": [
    {
     "name": "stderr",
     "output_type": "stream",
     "text": [
      "c:\\program files\\python36\\lib\\site-packages\\ipykernel_launcher.py:31: RuntimeWarning: divide by zero encountered in log2\n",
      "c:\\program files\\python36\\lib\\site-packages\\ipykernel_launcher.py:31: RuntimeWarning: invalid value encountered in multiply\n"
     ]
    }
   ],
   "source": [
    "imagePatches = glob('D:/breakhis/BreaKHis_v1/histology_slides/breast/**/SOB/**/**/40X/*.png', recursive=True)\n",
    "pattern_adenosis = '*B_A*'\n",
    "pattern_fibroadenoma = '*B_F*'\n",
    "pattern_phyllodes_tumor = '*B_PT*'\n",
    "pattern_tubular_adenoma = '*B_TA*'\n",
    "pattern_ductal_carcinoma = '*M_DC*'\n",
    "pattern_lobular_carcinoma = '*M_LC*'\n",
    "pattern_mucinous_carcinoma = '*M_MC*'\n",
    "pattern_papillary_carcinoma  = '*M_PC*'\n",
    "\n",
    "adenosis = fnmatch.filter(imagePatches, pattern_adenosis)\n",
    "fibroadenoma = fnmatch.filter(imagePatches, pattern_fibroadenoma)\n",
    "phyllodes_tumor = fnmatch.filter(imagePatches, pattern_phyllodes_tumor)\n",
    "tubular_adenoma = fnmatch.filter(imagePatches,pattern_tubular_adenoma)\n",
    "ductal_carcinoma = fnmatch.filter(imagePatches, pattern_ductal_carcinoma)\n",
    "lobular_carcinoma = fnmatch.filter(imagePatches, pattern_lobular_carcinoma)\n",
    "mucinous_carcinoma = fnmatch.filter(imagePatches, pattern_mucinous_carcinoma)\n",
    "papillary_carcinoma = fnmatch.filter(imagePatches, pattern_papillary_carcinoma)\n",
    "\n",
    "X = []\n",
    "y = []\n",
    "for img in imagePatches:\n",
    "    full_size_image = cv2.imread(img)\n",
    "    im = cv2.resize(full_size_image, (299, 299), interpolation=cv2.INTER_CUBIC)\n",
    "    img_gray = cv2.cvtColor(im, cv2.COLOR_BGR2GRAY)\n",
    "    img_arr = np.array(img_gray.reshape(299,299))\n",
    "    \n",
    "     # LBP\n",
    "    feat_lbp = local_binary_pattern(img_arr,5,2,'uniform').reshape(299*299)\n",
    "    lbp_hist,_ = np.histogram(feat_lbp,8)\n",
    "    lbp_hist = np.array(lbp_hist,dtype=float)\n",
    "    lbp_prob = np.divide(lbp_hist,np.sum(lbp_hist))\n",
    "    lbp_energy = np.nansum(lbp_prob**2)\n",
    "    lbp_entropy = -np.nansum(np.multiply(lbp_prob,np.log2(lbp_prob)))\n",
    "    \n",
    "    # GLCM\n",
    "    gCoMat = greycomatrix(img_arr, [2], [0],256,symmetric=True, normed=True)\n",
    "    contrast = greycoprops(gCoMat, prop='contrast')\n",
    "    dissimilarity = greycoprops(gCoMat, prop='dissimilarity')\n",
    "    homogeneity = greycoprops(gCoMat, prop='homogeneity')    \n",
    "    energy = greycoprops(gCoMat, prop='energy')\n",
    "    correlation = greycoprops(gCoMat, prop='correlation')    \n",
    "    feat_glcm = np.array([contrast[0][0],dissimilarity[0][0],homogeneity[0][0],energy[0][0],correlation[0][0]])\n",
    "    \n",
    "    # Gabor filter\n",
    "    gaborFilt_real,gaborFilt_imag = gabor(img_arr,frequency=0.6)\n",
    "    gaborFilt = (gaborFilt_real**2+gaborFilt_imag**2)//2\n",
    "    gabor_hist,_ = np.histogram(gaborFilt,8)\n",
    "    gabor_hist = np.array(gabor_hist,dtype=float)\n",
    "    gabor_prob = np.divide(gabor_hist,np.sum(gabor_hist))\n",
    "    gabor_energy = np.nansum(gabor_prob**2)\n",
    "    gabor_entropy = -np.nansum(np.multiply(gabor_prob,np.log2(gabor_prob)))\n",
    "    \n",
    "    # Concatenating features(2+5+2)    \n",
    "    concat_feat = np.concatenate(([lbp_energy,lbp_entropy],feat_glcm,[gabor_energy,gabor_entropy]),axis=0)\n",
    "    X.append(concat_feat)\n",
    "    \n",
    "    #creating target\n",
    "    if img in adenosis:\n",
    "        y.append(0)\n",
    "    elif img in fibroadenoma:\n",
    "        y.append(1)\n",
    "    elif img in phyllodes_tumor:\n",
    "        y.append(2)\n",
    "    elif img in tubular_adenoma:\n",
    "        y.append(3)\n",
    "    elif img in ductal_carcinoma:\n",
    "        y.append(4)\n",
    "    elif img in lobular_carcinoma:\n",
    "        y.append(5)\n",
    "    elif img in mucinous_carcinoma:\n",
    "        y.append(6)\n",
    "    elif img in papillary_carcinoma:\n",
    "        y.append(7)\n",
    "    else:\n",
    "        #break\n",
    "        print('no class')"
   ]
  },
  {
   "cell_type": "code",
   "execution_count": 3,
   "metadata": {},
   "outputs": [],
   "source": [
    "X = np.array(X)\n",
    "y = np.array(y)\n",
    "np.save('C:/Users/Debanjan Bhadra/Desktop/project/x_BreakHis_40_manual_extracted_features.npy',X,allow_pickle=True)\n",
    "np.save('C:/Users/Debanjan Bhadra/Desktop/project/y_BreakHis_40_bin.npy',y,allow_pickle=True)"
   ]
  }
 ],
 "metadata": {
  "kernelspec": {
   "display_name": "Python 3",
   "language": "python",
   "name": "python3"
  },
  "language_info": {
   "codemirror_mode": {
    "name": "ipython",
    "version": 3
   },
   "file_extension": ".py",
   "mimetype": "text/x-python",
   "name": "python",
   "nbconvert_exporter": "python",
   "pygments_lexer": "ipython3",
   "version": "3.6.4"
  }
 },
 "nbformat": 4,
 "nbformat_minor": 2
}
